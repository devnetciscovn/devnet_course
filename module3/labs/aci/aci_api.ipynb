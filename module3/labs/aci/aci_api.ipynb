{
 "cells": [
  {
   "cell_type": "code",
   "execution_count": null,
   "metadata": {},
   "outputs": [],
   "source": [
    "import requests\n",
    "\n",
    "url = 'https://sandboxapicdc.cisco.com/api/aaaLogin.json'\n",
    "\n",
    "body = {\n",
    "    \"aaaUser\": {\n",
    "        \"attributes\": {\n",
    "            \"name\": \"admin\",\n",
    "            \"pwd\": \"!v3G@!4@Y\"\n",
    "        }\n",
    "    }\n",
    "}\n",
    "\n",
    "response1 = requests.post(url, json = body, verify = False)\n",
    "\n",
    "url = 'https://sandboxapicdc.cisco.com/api/node/class/fvTenant.json'\n",
    "\n",
    "cookies = response1.cookies\n",
    "\n",
    "response2 = requests.get(url, cookies = cookies, verify = False)\n",
    "tenants = response2.json()[\"imdata\"]\n",
    "for tenant in tenants:\n",
    "    print(tenant[\"fvTenant\"][\"attributes\"][\"name\"])"
   ]
  }
 ],
 "metadata": {
  "interpreter": {
   "hash": "31f2aee4e71d21fbe5cf8b01ff0e069b9275f58929596ceb00d14d90e3e16cd6"
  },
  "kernelspec": {
   "display_name": "Python 3.9.7 64-bit",
   "language": "python",
   "name": "python3"
  },
  "language_info": {
   "codemirror_mode": {
    "name": "ipython",
    "version": 3
   },
   "file_extension": ".py",
   "mimetype": "text/x-python",
   "name": "python",
   "nbconvert_exporter": "python",
   "pygments_lexer": "ipython3",
   "version": "3.9.7"
  },
  "orig_nbformat": 4
 },
 "nbformat": 4,
 "nbformat_minor": 2
}
