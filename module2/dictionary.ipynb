{
 "cells": [
  {
   "cell_type": "code",
   "execution_count": null,
   "metadata": {},
   "outputs": [],
   "source": [
    "dictionary1 = {'sun': 'mat troi',\n",
    "'moon': 'mat trang',\n",
    "'sky': 'bau troi',\n",
    "'router': 'thiet bi dinh tuyen',\n",
    "'swiching': 'chuyen mach',\n",
    "'train': 'con tau'}\n",
    "\n",
    "# key: value"
   ]
  },
  {
   "cell_type": "code",
   "execution_count": null,
   "metadata": {},
   "outputs": [],
   "source": [
    "dictionary1"
   ]
  },
  {
   "cell_type": "code",
   "execution_count": null,
   "metadata": {},
   "outputs": [],
   "source": [
    "router1 = {\n",
    "    'hostname': 'r1',\n",
    "    'ip': '10.0.0.1',\n",
    "    'port': 2001,\n",
    "    'os': 'cisco-ios-xr',\n",
    "    'vendor': 'cisco',\n",
    "    'username': 'admin',\n",
    "    'password': 'cisco123'\n",
    "}\n",
    "\n",
    "router2 = {\n",
    "    'hostname': 'r2',\n",
    "    'ip': '10.0.0.2',\n",
    "    'port': 2002,\n",
    "    'os': 'junos',\n",
    "    'vendor': 'juniper',\n",
    "    'username': 'admin',\n",
    "    'password': 'admin'\n",
    "}\n",
    "\n",
    "vietcombank = {\n",
    "    'name': 'vietcombank',\n",
    "    'rd': '65001:1',\n",
    "    'rt-import': '65001:11',\n",
    "    'rt-export': '65001:12',\n",
    "    'interface': 'GE0/0/2',\n",
    "    'ip': '192.168.1.1/24'\n",
    "}\n",
    "\n",
    "vietinbank = {\n",
    "    'name': 'vietinbank',\n",
    "    'rd': '65001:2',\n",
    "    'rt-import': '65001:21',\n",
    "    'rt-export': '65001:22',\n",
    "    'interface': 'GE0/0/2',\n",
    "    'ip': '192.168.2.1/24'\n",
    "}\n",
    "\n",
    "agribank = {\n",
    "    'name': 'agribank',\n",
    "    'rd': '65001:3',\n",
    "    'rt-import': '65001:31',\n",
    "    'rt-export': '65001:32',\n",
    "    'interface': 'GE0/0/3',\n",
    "    'ip': '192.168.3.1/24',\n",
    "    'static_routes':\n",
    "        {\n",
    "            'next_hop': '192.168.3.200',\n",
    "            'nets': ['20.0.0.0/16', '21.0.0.0/16', '34.3.0.0/16']\n",
    "        }\n",
    "}"
   ]
  },
  {
   "cell_type": "code",
   "execution_count": null,
   "metadata": {},
   "outputs": [],
   "source": [
    "router_list = [router1, router2]\n",
    "customer_list = [vietcombank, vietinbank, agribank]"
   ]
  },
  {
   "cell_type": "code",
   "execution_count": null,
   "metadata": {},
   "outputs": [],
   "source": [
    "customer_list[2][\"static_routes\"]['next_hop']"
   ]
  },
  {
   "cell_type": "code",
   "execution_count": null,
   "metadata": {},
   "outputs": [],
   "source": [
    "for net in customer_list[2]['static_routes']['nets']:\n",
    "    print(net)"
   ]
  },
  {
   "cell_type": "code",
   "execution_count": null,
   "metadata": {},
   "outputs": [],
   "source": [
    "len(agribank)"
   ]
  },
  {
   "cell_type": "code",
   "execution_count": null,
   "metadata": {},
   "outputs": [],
   "source": [
    "agribank.keys()"
   ]
  },
  {
   "cell_type": "code",
   "execution_count": null,
   "metadata": {},
   "outputs": [],
   "source": [
    "agribank.values()"
   ]
  },
  {
   "cell_type": "code",
   "execution_count": null,
   "metadata": {},
   "outputs": [],
   "source": [
    "agribank.items()"
   ]
  },
  {
   "cell_type": "code",
   "execution_count": null,
   "metadata": {},
   "outputs": [],
   "source": [
    "agribank"
   ]
  },
  {
   "cell_type": "code",
   "execution_count": null,
   "metadata": {},
   "outputs": [],
   "source": [
    "agribank['ip'] = '192.168.3.101/24'\n",
    "agribank"
   ]
  },
  {
   "cell_type": "code",
   "execution_count": null,
   "metadata": {},
   "outputs": [],
   "source": [
    "agribank"
   ]
  },
  {
   "cell_type": "code",
   "execution_count": null,
   "metadata": {},
   "outputs": [],
   "source": [
    "agribank['static_routes']['next_hop'] = '191.168.3.202'\n",
    "agribank"
   ]
  },
  {
   "cell_type": "code",
   "execution_count": null,
   "metadata": {},
   "outputs": [],
   "source": [
    "agribank['static_routes']['nets'][2] = '30.3.0.0/16'\n",
    "agribank"
   ]
  },
  {
   "cell_type": "code",
   "execution_count": null,
   "metadata": {},
   "outputs": [],
   "source": [
    "for k,v in agribank.items():\n",
    "    print(k, '-->', v)"
   ]
  },
  {
   "cell_type": "code",
   "execution_count": null,
   "metadata": {},
   "outputs": [],
   "source": [
    "for k in agribank:\n",
    "    print(k, '-->', agribank[k])\n",
    "\n",
    "print()\n",
    "\n",
    "for k in agribank.keys():\n",
    "    print(k, '-->', agribank[k])"
   ]
  },
  {
   "cell_type": "code",
   "execution_count": null,
   "metadata": {},
   "outputs": [],
   "source": [
    "'ip_address' in agribank.keys()"
   ]
  },
  {
   "cell_type": "code",
   "execution_count": null,
   "metadata": {},
   "outputs": [],
   "source": [
    "# i = 0\n",
    "# k[0] = 'name'\n",
    "# v[0] = 'shb'\n",
    "# k[0] : v[0] = 'name': 'shb'\n",
    "# shb = {\n",
    "#     'name': 'shb'\n",
    "# }\n",
    "\n",
    "# i = 1\n",
    "# k[1] = 'rd'\n",
    "# v[1] = '65001:4'\n",
    "# k[1] : v[1] = 'rd': '65001:4'\n",
    "\n",
    "# shb = {\n",
    "#     'name': 'shb',\n",
    "#     'rd': '65001:4'\n",
    "# }\n",
    "\n",
    "k = ['name', 'rd', 'rt', 'interface', 'ip']\n",
    "v = ['shb', '65001:4', '65001:4', 'GE0/0/4', '10.4.0.1']\n",
    "l = len(k)\n",
    "\n",
    "shb = { k[i] : v[i] for i in range(l) }\n",
    "shb"
   ]
  },
  {
   "cell_type": "code",
   "execution_count": null,
   "metadata": {},
   "outputs": [],
   "source": [
    "k = ['name', 'rd', 'rt', 'interface', 'ip']\n",
    "v = ['shb', '65001:4', '65001:4', 'GE0/0/4', '10.4.0.1']\n",
    "l = len(k)\n",
    "\n",
    "shb = {}\n",
    "\n",
    "for i in range(l):\n",
    "    shb[k[i]] = v[i]\n",
    "\n",
    "shb"
   ]
  }
 ],
 "metadata": {
  "interpreter": {
   "hash": "31f2aee4e71d21fbe5cf8b01ff0e069b9275f58929596ceb00d14d90e3e16cd6"
  },
  "kernelspec": {
   "display_name": "Python 3.9.7 64-bit",
   "language": "python",
   "name": "python3"
  },
  "language_info": {
   "codemirror_mode": {
    "name": "ipython",
    "version": 3
   },
   "file_extension": ".py",
   "mimetype": "text/x-python",
   "name": "python",
   "nbconvert_exporter": "python",
   "pygments_lexer": "ipython3",
   "version": "3.9.7"
  },
  "orig_nbformat": 4
 },
 "nbformat": 4,
 "nbformat_minor": 2
}
