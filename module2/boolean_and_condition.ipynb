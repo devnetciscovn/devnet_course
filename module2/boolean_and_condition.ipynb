{
 "cells": [
  {
   "cell_type": "code",
   "execution_count": null,
   "metadata": {},
   "outputs": [],
   "source": [
    "a = 10\n",
    "print(a > 0)\n",
    "print(a < 0)"
   ]
  },
  {
   "cell_type": "code",
   "execution_count": null,
   "metadata": {},
   "outputs": [],
   "source": [
    "hostnames = ['p1', 'p2', 'p3', 'pe1', 'pe2', 'pe3']"
   ]
  },
  {
   "cell_type": "code",
   "execution_count": null,
   "metadata": {},
   "outputs": [],
   "source": [
    "print('p1' in hostnames)\n",
    "print('srt1' in hostnames)"
   ]
  },
  {
   "cell_type": "code",
   "execution_count": null,
   "metadata": {},
   "outputs": [],
   "source": [
    "a = 10\n",
    "if a == 0:\n",
    "    print('a = 0')\n",
    "else:\n",
    "    print('a != 0')"
   ]
  },
  {
   "cell_type": "code",
   "execution_count": null,
   "metadata": {},
   "outputs": [],
   "source": [
    "b = 100\n",
    "if b != 0:\n",
    "    print(b, 'is not zero')\n",
    "    b += 5\n",
    "    print(b)\n",
    "else:\n",
    "    print(b, 'is zero')\n",
    "    b *= 5\n",
    "    print(b)"
   ]
  },
  {
   "cell_type": "code",
   "execution_count": null,
   "metadata": {},
   "outputs": [],
   "source": [
    "a = 0\n",
    "b = 100\n",
    "c = []\n",
    "d = [1,2,3]\n",
    "e = ''\n",
    "f = 'abc'\n",
    "\n",
    "list1 = [a, b, c, d, e, f]\n",
    "for item in list1:\n",
    "    print(item, bool(item))"
   ]
  },
  {
   "cell_type": "code",
   "execution_count": null,
   "metadata": {},
   "outputs": [],
   "source": [
    "b = 100\n",
    "if b:\n",
    "    print(b, 'is not zero')\n",
    "    b += 5\n",
    "    print(b)\n",
    "else:\n",
    "    print(b, 'is zero')\n",
    "    b *= 5\n",
    "    print(b)"
   ]
  },
  {
   "cell_type": "code",
   "execution_count": null,
   "metadata": {},
   "outputs": [],
   "source": [
    "list2 = []\n",
    "if len(list2) > 0:\n",
    "    print('this is not an empty list')\n",
    "else:\n",
    "    print('this is an empty list')"
   ]
  },
  {
   "cell_type": "code",
   "execution_count": null,
   "metadata": {},
   "outputs": [],
   "source": [
    "if list2:\n",
    "    print('this is not an empty list')\n",
    "else:\n",
    "    print('this is an empty list')"
   ]
  },
  {
   "cell_type": "code",
   "execution_count": null,
   "metadata": {},
   "outputs": [],
   "source": [
    "list3 = [1,2,3]\n",
    "if list3:\n",
    "    print('this is not an empty list')\n",
    "else:\n",
    "    print('this is an empty list')"
   ]
  }
 ],
 "metadata": {
  "interpreter": {
   "hash": "31f2aee4e71d21fbe5cf8b01ff0e069b9275f58929596ceb00d14d90e3e16cd6"
  },
  "kernelspec": {
   "display_name": "Python 3.9.7 64-bit",
   "language": "python",
   "name": "python3"
  },
  "language_info": {
   "codemirror_mode": {
    "name": "ipython",
    "version": 3
   },
   "file_extension": ".py",
   "mimetype": "text/x-python",
   "name": "python",
   "nbconvert_exporter": "python",
   "pygments_lexer": "ipython3",
   "version": "3.9.7"
  },
  "orig_nbformat": 4
 },
 "nbformat": 4,
 "nbformat_minor": 2
}
