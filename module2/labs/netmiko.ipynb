{
 "cells": [
  {
   "cell_type": "markdown",
   "metadata": {},
   "source": [
    "https://xrdocs.io/application-hosting/tutorials/2016-08-15-netmiko-and-napalm-with-ios-xr-quick-look/\n",
    "\n",
    "https://github.com/ktbyers/netmiko\n",
    "\n",
    "https://readthedocs.org/projects/netmiko/"
   ]
  },
  {
   "cell_type": "code",
   "execution_count": null,
   "metadata": {},
   "outputs": [],
   "source": [
    "iosxr = {\n",
    "    'device_type': 'cisco_xr',\n",
    "    'ip':   'sandbox-iosxr-1.cisco.com',\n",
    "    'username': 'admin',\n",
    "    'password': 'C1sco12345',\n",
    "    'port' : 22,          # optional, defaults to 22\n",
    "}"
   ]
  },
  {
   "cell_type": "code",
   "execution_count": null,
   "metadata": {},
   "outputs": [],
   "source": [
    "iosxe = {\n",
    "    'device_type': 'cisco_ios',\n",
    "    'ip':   'sandbox-iosxe-latest-1.cisco.com',\n",
    "    'username': 'developer',\n",
    "    'password': 'C1sco12345',\n",
    "    'port' : 22,          # optional, defaults to 22\n",
    "}"
   ]
  }
 ],
 "metadata": {
  "interpreter": {
   "hash": "31f2aee4e71d21fbe5cf8b01ff0e069b9275f58929596ceb00d14d90e3e16cd6"
  },
  "kernelspec": {
   "display_name": "Python 3.9.7 64-bit",
   "language": "python",
   "name": "python3"
  },
  "language_info": {
   "codemirror_mode": {
    "name": "ipython",
    "version": 3
   },
   "file_extension": ".py",
   "mimetype": "text/x-python",
   "name": "python",
   "nbconvert_exporter": "python",
   "pygments_lexer": "ipython3",
   "version": "3.9.7"
  }
 },
 "nbformat": 4,
 "nbformat_minor": 2
}
