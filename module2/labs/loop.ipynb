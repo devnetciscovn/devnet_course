{
 "cells": [
  {
   "cell_type": "code",
   "execution_count": null,
   "metadata": {},
   "outputs": [],
   "source": [
    "for i in range(10, 101):\n",
    "    if i % 2:\n",
    "        print(i, end=';')"
   ]
  },
  {
   "cell_type": "code",
   "execution_count": null,
   "metadata": {},
   "outputs": [],
   "source": [
    "for i in range(10, 101):\n",
    "    if i % 10:\n",
    "        continue\n",
    "    print(i, end=';')"
   ]
  },
  {
   "cell_type": "code",
   "execution_count": null,
   "metadata": {},
   "outputs": [],
   "source": [
    "hostnames = ['p1', 'p2', 'p3', 'pe1', 'pe2', 'pe3']"
   ]
  },
  {
   "cell_type": "code",
   "execution_count": null,
   "metadata": {},
   "outputs": [],
   "source": [
    "for hostname in hostnames:\n",
    "    if 'pe' in hostname:\n",
    "        break\n",
    "    print(hostname)"
   ]
  },
  {
   "cell_type": "code",
   "execution_count": null,
   "metadata": {},
   "outputs": [],
   "source": [
    "vietcombank = ['vietcombank', '65001:1', '65001:11', '65001:21', 'GE0/0/0', '10.0.0.1/24']\n",
    "vietinbank = ['vietinbank', '65001:2', '65001:12', '65001:22', 'GE0/0/1', '11.0.0.1/24']\n",
    "agribank = ['agribank', '65001:3', '65001:13', '65001:23', 'GE0/0/3', '13.0.0.2/24']\n",
    "\n",
    "customers = [vietcombank, vietinbank, agribank]\n",
    "\n",
    "customers"
   ]
  },
  {
   "cell_type": "code",
   "execution_count": null,
   "metadata": {},
   "outputs": [],
   "source": [
    "for customer in customers:\n",
    "    config = f\"\"\"vrf {customer[0]}\n",
    "rd {customer[1]}\n",
    "address-family ipv4\n",
    "route-target import {customer[2]}\n",
    "route-target export {customer[3]}\n",
    "exit\n",
    "interface {customer[4]}\n",
    "vrf {customer[0]}\n",
    "ipv4 address {[customer[5]]}\"\"\"\n",
    "\n",
    "    print(config)\n",
    "    print('\\n')"
   ]
  },
  {
   "cell_type": "code",
   "execution_count": null,
   "metadata": {},
   "outputs": [],
   "source": [
    "for customer in customers:\n",
    "    for params in customer:\n",
    "        print(params)\n",
    "    print()"
   ]
  },
  {
   "cell_type": "code",
   "execution_count": null,
   "metadata": {},
   "outputs": [],
   "source": [
    "i = 0\n",
    "while i <= 100:\n",
    "    print(i, end=';')\n",
    "    i += 2"
   ]
  },
  {
   "cell_type": "code",
   "execution_count": null,
   "metadata": {},
   "outputs": [],
   "source": [
    "while True:\n",
    "    print('you are in a forever loop')"
   ]
  }
 ],
 "metadata": {
  "interpreter": {
   "hash": "31f2aee4e71d21fbe5cf8b01ff0e069b9275f58929596ceb00d14d90e3e16cd6"
  },
  "kernelspec": {
   "display_name": "Python 3.9.7 64-bit",
   "language": "python",
   "name": "python3"
  },
  "language_info": {
   "codemirror_mode": {
    "name": "ipython",
    "version": 3
   },
   "file_extension": ".py",
   "mimetype": "text/x-python",
   "name": "python",
   "nbconvert_exporter": "python",
   "pygments_lexer": "ipython3",
   "version": "3.9.7"
  },
  "orig_nbformat": 4
 },
 "nbformat": 4,
 "nbformat_minor": 2
}
