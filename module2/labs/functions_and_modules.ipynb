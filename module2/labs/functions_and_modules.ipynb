{
 "cells": [
  {
   "cell_type": "code",
   "execution_count": null,
   "metadata": {},
   "outputs": [],
   "source": [
    "def func1():\n",
    "    pass\n",
    "func1()"
   ]
  },
  {
   "cell_type": "code",
   "execution_count": null,
   "metadata": {},
   "outputs": [],
   "source": [
    "def show_config():\n",
    "    print('vrf vietcombank')\n",
    "    print('rd 65001:1')\n",
    "    print('address-family ipv4')\n",
    "    print('rt-import 65001:11')\n",
    "    print('rt-import 65001:11')\n",
    "\n",
    "show_config()"
   ]
  },
  {
   "cell_type": "code",
   "execution_count": null,
   "metadata": {},
   "outputs": [],
   "source": [
    "def show_config(customer):\n",
    "    name = customer['name']\n",
    "    rd = customer['rd']\n",
    "    rt_import = customer['rt-import']\n",
    "    rt_export = customer['rt-export']\n",
    "\n",
    "    print(f\"vrf {name}\")\n",
    "    print(f\"rd {rd}\")\n",
    "    print('address-family ipv4')\n",
    "    print(f\"rt-import {rt_import}\")\n",
    "    print(f\"rt-import {rt_export}\")"
   ]
  },
  {
   "cell_type": "code",
   "execution_count": null,
   "metadata": {},
   "outputs": [],
   "source": [
    "vietcombank = {\n",
    "    'name': 'vietcombank',\n",
    "    'rd': '65001:1',\n",
    "    'rt-import': '65001:11',\n",
    "    'rt-export': '65001:12',\n",
    "    'interface': 'GE0/0/2',\n",
    "    'ip': '192.168.1.1/24',\n",
    "    'static_routes':\n",
    "        {\n",
    "            'next_hop': '192.168.3.200',\n",
    "            'nets': ['10.0.0.0/16', '11.0.0.0/16', '14.3.0.0/16']\n",
    "        }\n",
    "}\n",
    "\n",
    "vietinbank = {\n",
    "    'name': 'vietinbank',\n",
    "    'rd': '65001:2',\n",
    "    'rt-import': '65001:21',\n",
    "    'rt-export': '65001:22',\n",
    "    'interface': 'GE0/0/2',\n",
    "    'ip': '192.168.2.1/24',\n",
    "    'static_routes':\n",
    "        {\n",
    "            'next_hop': '192.168.3.200',\n",
    "            'nets': ['21.0.0.0/16', '22.0.0.0/16', '35.3.0.0/16']\n",
    "        }\n",
    "}\n",
    "\n",
    "agribank = {\n",
    "    'name': 'agribank',\n",
    "    'rd': '65001:3',\n",
    "    'rt-import': '65001:31',\n",
    "    'rt-export': '65001:32',\n",
    "    'interface': 'GE0/0/3',\n",
    "    'ip': '192.168.3.1/24',\n",
    "    'static_routes':\n",
    "        {\n",
    "            'next_hop': '192.168.3.200',\n",
    "            'nets': ['20.0.0.0/16', '21.0.0.0/16', '34.3.0.0/16']\n",
    "        }\n",
    "}"
   ]
  },
  {
   "cell_type": "code",
   "execution_count": null,
   "metadata": {},
   "outputs": [],
   "source": [
    "show_config(agribank)"
   ]
  },
  {
   "cell_type": "code",
   "execution_count": null,
   "metadata": {},
   "outputs": [],
   "source": [
    "customers = [vietcombank, vietinbank, agribank]\n",
    "\n",
    "for customer in customers:\n",
    "    show_config(customer)\n",
    "    print()"
   ]
  },
  {
   "cell_type": "code",
   "execution_count": null,
   "metadata": {},
   "outputs": [],
   "source": [
    "def build_config(customer):\n",
    "    name = customer['name']\n",
    "    rd = customer['rd']\n",
    "    rt_import = customer['rt-import']\n",
    "    rt_export = customer['rt-export']\n",
    "\n",
    "    config = f\"\"\"vrf {name}\n",
    "    rd {rd}\n",
    "    address-family ipv4\n",
    "    rt-import {rt_import}\n",
    "    rt-export {rt_export}\n",
    "    \"\"\"\n",
    "    return config\n",
    "\n",
    "    # print(f\"vrf {name}\")\n",
    "    # print(f\"rd {rd}\")\n",
    "    # print('address-family ipv4')\n",
    "    # print(f\"rt-import {rt_import}\")\n",
    "    # print(f\"rt-export {rt_export}\")\n",
    "   "
   ]
  },
  {
   "cell_type": "code",
   "execution_count": null,
   "metadata": {},
   "outputs": [],
   "source": [
    "agribank_config = build_config(agribank)"
   ]
  },
  {
   "cell_type": "code",
   "execution_count": null,
   "metadata": {},
   "outputs": [],
   "source": [
    "print(agribank_config)"
   ]
  },
  {
   "cell_type": "code",
   "execution_count": null,
   "metadata": {},
   "outputs": [],
   "source": [
    "import pygame"
   ]
  }
 ],
 "metadata": {
  "interpreter": {
   "hash": "31f2aee4e71d21fbe5cf8b01ff0e069b9275f58929596ceb00d14d90e3e16cd6"
  },
  "kernelspec": {
   "display_name": "Python 3.9.7 64-bit",
   "language": "python",
   "name": "python3"
  },
  "language_info": {
   "codemirror_mode": {
    "name": "ipython",
    "version": 3
   },
   "file_extension": ".py",
   "mimetype": "text/x-python",
   "name": "python",
   "nbconvert_exporter": "python",
   "pygments_lexer": "ipython3",
   "version": "3.9.7"
  },
  "orig_nbformat": 4
 },
 "nbformat": 4,
 "nbformat_minor": 2
}
